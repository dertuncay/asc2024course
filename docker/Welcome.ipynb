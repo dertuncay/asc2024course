{
 "cells": [
  {
   "cell_type": "markdown",
   "id": "04c2ceff-c334-453f-a841-eecf7ad8ee2c",
   "metadata": {},
   "source": [
    "# Welcome\n",
    "\n",
    "To download the notebook execute the next cell using $\\blacktriangleright$ button or by hitting `Shift+Enter`."
   ]
  },
  {
   "cell_type": "code",
   "execution_count": null,
   "id": "ba68da42-c3e6-4b4b-b9ea-7b8e25a73569",
   "metadata": {},
   "outputs": [],
   "source": [
    "! cd /notebooks\n",
    "! git clone https://github.com/rdno/basic_data_processing.git"
   ]
  },
  {
   "cell_type": "markdown",
   "id": "b9ff45dc-acff-4d0f-8fc6-ef778a92d279",
   "metadata": {},
   "source": [
    "Now you can open the notebook:\n",
    "\n",
    "[Click](basic_data_processing/Comparing%20Observed%20and%20Synthetic%20Data.ipynb)"
   ]
  }
 ],
 "metadata": {
  "kernelspec": {
   "display_name": "Python 3 (ipykernel)",
   "language": "python",
   "name": "python3"
  },
  "language_info": {
   "codemirror_mode": {
    "name": "ipython",
    "version": 3
   },
   "file_extension": ".py",
   "mimetype": "text/x-python",
   "name": "python",
   "nbconvert_exporter": "python",
   "pygments_lexer": "ipython3",
   "version": "3.10.8"
  }
 },
 "nbformat": 4,
 "nbformat_minor": 5
}
